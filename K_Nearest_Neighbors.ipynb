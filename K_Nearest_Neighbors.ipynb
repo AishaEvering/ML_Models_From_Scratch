{
  "nbformat": 4,
  "nbformat_minor": 0,
  "metadata": {
    "colab": {
      "provenance": [],
      "authorship_tag": "ABX9TyPt2M0cQBQcqaVUYAUF0qZl",
      "include_colab_link": true
    },
    "kernelspec": {
      "name": "python3",
      "display_name": "Python 3"
    },
    "language_info": {
      "name": "python"
    }
  },
  "cells": [
    {
      "cell_type": "markdown",
      "metadata": {
        "id": "view-in-github",
        "colab_type": "text"
      },
      "source": [
        "<a href=\"https://colab.research.google.com/github/AishaEvering/ML_Models_From_Scratch/blob/main/K_Nearest_Neighbors.ipynb\" target=\"_parent\"><img src=\"https://colab.research.google.com/assets/colab-badge.svg\" alt=\"Open In Colab\"/></a>"
      ]
    },
    {
      "cell_type": "markdown",
      "source": [
        "#KNN Model From Scratch"
      ],
      "metadata": {
        "id": "mxXvIsli0tvE"
      }
    },
    {
      "cell_type": "code",
      "source": [
        "import requests\n",
        "from pathlib import Path\n",
        "\n",
        "# Download helper functions\n",
        "if Path(\"helper.py\").is_file():\n",
        "  print(\"helper.py already exists, skipping download...\")\n",
        "else:\n",
        "  print(\"Downloading helper.py\")\n",
        "  request = requests.get('https://raw.githubusercontent.com/AishaEvering/ML_Models_From_Scratch/main/helper.py')\n",
        "\n",
        "  with open(\"helper.py\", \"wb\") as f:\n",
        "    f.write(request.content)"
      ],
      "metadata": {
        "colab": {
          "base_uri": "https://localhost:8080/"
        },
        "id": "ms_GenCne8LR",
        "outputId": "aeb7e84b-e22d-450f-ff0e-ec9976ce9ab4"
      },
      "execution_count": 1,
      "outputs": [
        {
          "output_type": "stream",
          "name": "stdout",
          "text": [
            "Downloading helper.py\n"
          ]
        }
      ]
    },
    {
      "cell_type": "code",
      "source": [
        "import numpy as np\n",
        "from collections import Counter\n",
        "from sklearn import datasets\n",
        "from sklearn.model_selection import train_test_split\n",
        "import matplotlib.pyplot as plt\n",
        "from matplotlib.colors import ListedColormap\n",
        "from helper import accuracy\n",
        "\n",
        "cmap = ListedColormap(['#FF0000', '#00FF00', '#0000FF'])"
      ],
      "metadata": {
        "id": "wsPSN0-ozU22"
      },
      "execution_count": 2,
      "outputs": []
    },
    {
      "cell_type": "markdown",
      "source": [
        "## Load Data"
      ],
      "metadata": {
        "id": "HfifZqO3zQ1o"
      }
    },
    {
      "cell_type": "code",
      "source": [
        "iris = datasets.load_iris()\n",
        "X, y = iris.data, iris.target"
      ],
      "metadata": {
        "id": "j7ZgKDRzzTkd"
      },
      "execution_count": 3,
      "outputs": []
    },
    {
      "cell_type": "code",
      "source": [
        "X_train, X_test, y_train, y_test = train_test_split(X, y, test_size=0.2, random_state=42)"
      ],
      "metadata": {
        "id": "HOcvLbh50C3t"
      },
      "execution_count": 4,
      "outputs": []
    },
    {
      "cell_type": "code",
      "source": [
        "X_train.shape, y_train.shape"
      ],
      "metadata": {
        "colab": {
          "base_uri": "https://localhost:8080/"
        },
        "id": "A6LgU7070QtZ",
        "outputId": "b767822d-8b2c-4c18-f5a8-5676cdf33d3a"
      },
      "execution_count": 5,
      "outputs": [
        {
          "output_type": "execute_result",
          "data": {
            "text/plain": [
              "((120, 4), (120,))"
            ]
          },
          "metadata": {},
          "execution_count": 5
        }
      ]
    },
    {
      "cell_type": "code",
      "source": [
        "X_train[0], y_train[0]"
      ],
      "metadata": {
        "colab": {
          "base_uri": "https://localhost:8080/"
        },
        "id": "PlWkIthN0U_X",
        "outputId": "af231931-6a9f-4d95-9cb5-0963e83b9fae"
      },
      "execution_count": 6,
      "outputs": [
        {
          "output_type": "execute_result",
          "data": {
            "text/plain": [
              "(array([4.6, 3.6, 1. , 0.2]), 0)"
            ]
          },
          "metadata": {},
          "execution_count": 6
        }
      ]
    },
    {
      "cell_type": "code",
      "source": [
        "np.unique(y_train)"
      ],
      "metadata": {
        "colab": {
          "base_uri": "https://localhost:8080/"
        },
        "id": "rzoT3z0E1ZGU",
        "outputId": "3b20827a-5bcc-4eeb-f2ae-6aa33920eb13"
      },
      "execution_count": 7,
      "outputs": [
        {
          "output_type": "execute_result",
          "data": {
            "text/plain": [
              "array([0, 1, 2])"
            ]
          },
          "metadata": {},
          "execution_count": 7
        }
      ]
    },
    {
      "cell_type": "code",
      "source": [
        "plt.figure()\n",
        "plt.scatter(X[:, 2], X[:, 3], c=y, cmap=cmap, edgecolors='k', s=20)\n",
        "plt.show()"
      ],
      "metadata": {
        "colab": {
          "base_uri": "https://localhost:8080/",
          "height": 430
        },
        "id": "IPx6DtPB0Zse",
        "outputId": "ee4d55fc-e22e-41b8-ab87-5c9c31be995f"
      },
      "execution_count": 8,
      "outputs": [
        {
          "output_type": "display_data",
          "data": {
            "text/plain": [
              "<Figure size 640x480 with 1 Axes>"
            ],
            "image/png": "[encoded data removed]"
          },
          "metadata": {}
        }
      ]
    },
    {
      "cell_type": "markdown",
      "source": [
        "## Create KNN Model"
      ],
      "metadata": {
        "id": "5q2-NpHM0rrF"
      }
    },
    {
      "cell_type": "markdown",
      "source": [
        "KNN finds the nearest neighbors using the eculiean distance and then takes the majority class of the neighbors to classify the point in question.\n",
        "\n",
        "**Euclidean distance**\n",
        "\n",
        "$\\sqrt{\\displaystyle\\sum_{i=1}^n (q_i - p_i)^2}$\n"
      ],
      "metadata": {
        "id": "y9EN0dux4LtA"
      }
    },
    {
      "cell_type": "code",
      "source": [
        "# taking readability over effieciency for clear understanding\n",
        "def euclidean_distance(x1, x2):\n",
        "  # get the squared difference between samples\n",
        "  squared_dif = (x1-x2)**2\n",
        "\n",
        "  # get the sum of all the differences\n",
        "  sum_of_squared_difs = np.sum(squared_dif)\n",
        "\n",
        "  # square the sum of all the square differences\n",
        "  sqrt_of_sum = np.sqrt(sum_of_squared_difs)\n",
        "\n",
        "  return sqrt_of_sum"
      ],
      "metadata": {
        "id": "W1Sn7vqW29Pc"
      },
      "execution_count": 9,
      "outputs": []
    },
    {
      "cell_type": "code",
      "execution_count": 10,
      "metadata": {
        "id": "TZi2TTWEx0oP"
      },
      "outputs": [],
      "source": [
        "class KNN:\n",
        "  def __init__(self, k=3):\n",
        "    self.k = k\n",
        "\n",
        "  def fit(self, X, y):\n",
        "    self.X_train = X\n",
        "    self.y_train = y\n",
        "\n",
        "  def predict(self, X):\n",
        "    predicted_labels = [self._predict(x) for x in X]\n",
        "    return np.array(predicted_labels)\n",
        "\n",
        "  def _predict(self, x):\n",
        "    # compute distances\n",
        "    distances = [euclidean_distance(x, x_train) for x_train in self.X_train]\n",
        "\n",
        "    # get k nearest samples, labels\n",
        "    k_indices = np.argsort(distances)[:self.k]\n",
        "    k_nearest_labels = [self.y_train[i] for i in k_indices]\n",
        "\n",
        "    # majority vote, most common class lable\n",
        "    most_common = Counter(k_nearest_labels).most_common(1)\n",
        "    return most_common[0][0]\n"
      ]
    },
    {
      "cell_type": "code",
      "source": [
        "a = [1, 1, 1, 2, 2, 3, 4, 5, 6]\n",
        "most_common = Counter(a).most_common(1)\n",
        "print(f'Most common: {most_common[0][0]}, Number of instances: {most_common[0][1]}')"
      ],
      "metadata": {
        "colab": {
          "base_uri": "https://localhost:8080/"
        },
        "id": "eBW7w3ba7WyU",
        "outputId": "b903f3b8-bc3e-4388-f94b-aea318bea4bd"
      },
      "execution_count": 11,
      "outputs": [
        {
          "output_type": "stream",
          "name": "stdout",
          "text": [
            "Most common: 1, Number of instances: 3\n"
          ]
        }
      ]
    },
    {
      "cell_type": "code",
      "source": [
        "a = [1, 2, 1, 2, 1, 2, 3, 4, 5, 6]\n",
        "most_common = Counter(a).most_common(1)\n",
        "print(most_common)"
      ],
      "metadata": {
        "colab": {
          "base_uri": "https://localhost:8080/"
        },
        "id": "FsT5W4oM7vLc",
        "outputId": "042b2aa0-1f75-49ae-e74f-d0318ae3bf9f"
      },
      "execution_count": 12,
      "outputs": [
        {
          "output_type": "stream",
          "name": "stdout",
          "text": [
            "[(1, 3)]\n"
          ]
        }
      ]
    },
    {
      "cell_type": "markdown",
      "source": [
        "## Fit and Train KNN Model"
      ],
      "metadata": {
        "id": "TED2BVPH70_b"
      }
    },
    {
      "cell_type": "code",
      "source": [
        "clf_model = KNN(k=7) # usually you want to use an odd number so no ties\n",
        "clf_model.fit(X_train, y_train)"
      ],
      "metadata": {
        "id": "ULlQDjga802U"
      },
      "execution_count": 13,
      "outputs": []
    },
    {
      "cell_type": "markdown",
      "source": [
        "## Predict"
      ],
      "metadata": {
        "id": "2To6WOS99Aq5"
      }
    },
    {
      "cell_type": "code",
      "source": [
        "predictions = clf_model.predict(X_test)"
      ],
      "metadata": {
        "id": "BUVtK8IO9HwA"
      },
      "execution_count": 14,
      "outputs": []
    },
    {
      "cell_type": "code",
      "source": [
        "acc = accuracy(y_test, predictions)\n",
        "print(f'Accuracy: {acc:.3f}')"
      ],
      "metadata": {
        "colab": {
          "base_uri": "https://localhost:8080/"
        },
        "id": "VQQ5SeAs9Nm8",
        "outputId": "0ad4871f-f17e-4112-ddf9-76ac0e875b8a"
      },
      "execution_count": 15,
      "outputs": [
        {
          "output_type": "stream",
          "name": "stdout",
          "text": [
            "Accuracy: 0.967\n"
          ]
        }
      ]
    },
    {
      "cell_type": "code",
      "source": [
        "plt.figure()\n",
        "plt.scatter(X_test[:, 2], X_test[:, 3], c=y_test, cmap=cmap, edgecolors='k', s=20)\n",
        "plt.show()"
      ],
      "metadata": {
        "colab": {
          "base_uri": "https://localhost:8080/",
          "height": 430
        },
        "id": "68abMLfKKt2g",
        "outputId": "5c92fbe2-9e7e-4987-b3f5-58cec84a97c4"
      },
      "execution_count": 16,
      "outputs": [
        {
          "output_type": "display_data",
          "data": {
            "text/plain": [
              "<Figure size 640x480 with 1 Axes>"
            ],
            "image/png": "[encoded data removed]"
          },
          "metadata": {}
        }
      ]
    },
    {
      "cell_type": "code",
      "source": [
        "plt.figure()\n",
        "plt.scatter(X_test[:, 2], X_test[:, 3], c=predictions, cmap=cmap, edgecolors='k', s=20)\n",
        "plt.show()"
      ],
      "metadata": {
        "colab": {
          "base_uri": "https://localhost:8080/",
          "height": 430
        },
        "id": "RMc92zLdD-H0",
        "outputId": "3eeec10f-9026-44aa-8f4e-27150b4bbdad"
      },
      "execution_count": 17,
      "outputs": [
        {
          "output_type": "display_data",
          "data": {
            "text/plain": [
              "<Figure size 640x480 with 1 Axes>"
            ],
            "image/png": "[encoded data removed]"
          },
          "metadata": {}
        }
      ]
    }
  ]
}
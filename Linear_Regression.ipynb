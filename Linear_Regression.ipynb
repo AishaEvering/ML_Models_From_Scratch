{
  "nbformat": 4,
  "nbformat_minor": 0,
  "metadata": {
    "colab": {
      "provenance": [],
      "authorship_tag": "ABX9TyMspX5A4dMf+Zuhq3KNYWrI",
      "include_colab_link": true
    },
    "kernelspec": {
      "name": "python3",
      "display_name": "Python 3"
    },
    "language_info": {
      "name": "python"
    }
  },
  "cells": [
    {
      "cell_type": "markdown",
      "metadata": {
        "id": "view-in-github",
        "colab_type": "text"
      },
      "source": [
        "<a href=\"https://colab.research.google.com/github/AishaEvering/ML_Models_From_Scratch/blob/main/Linear_Regression.ipynb\" target=\"_parent\"><img src=\"https://colab.research.google.com/assets/colab-badge.svg\" alt=\"Open In Colab\"/></a>"
      ]
    },
    {
      "cell_type": "markdown",
      "source": [
        "# Linear Regression From Scratch"
      ],
      "metadata": {
        "id": "wzaFClRAYap3"
      }
    },
    {
      "cell_type": "markdown",
      "source": [
        "## Load Data"
      ],
      "metadata": {
        "id": "1WJgF-c9d-dn"
      }
    },
    {
      "cell_type": "code",
      "source": [
        "import numpy as np\n",
        "from sklearn.model_selection import train_test_split\n",
        "from sklearn import datasets\n",
        "import matplotlib.pyplot as plt"
      ],
      "metadata": {
        "id": "5Jqg-shteHLX"
      },
      "execution_count": 30,
      "outputs": []
    },
    {
      "cell_type": "code",
      "source": [
        "# generate data\n",
        "X, y = datasets.make_regression(n_samples=100, n_features=1, noise=20, random_state=42)\n",
        "len(X), len(y)"
      ],
      "metadata": {
        "colab": {
          "base_uri": "https://localhost:8080/"
        },
        "id": "LAX9UDIAeTB7",
        "outputId": "4039104d-29ab-4621-e1a9-2e2169c72284"
      },
      "execution_count": 31,
      "outputs": [
        {
          "output_type": "execute_result",
          "data": {
            "text/plain": [
              "(100, 100)"
            ]
          },
          "metadata": {},
          "execution_count": 31
        }
      ]
    },
    {
      "cell_type": "code",
      "source": [
        "# split data\n",
        "X_train, X_test, y_train, y_test = train_test_split(X, y, test_size=0.2, random_state=42)\n",
        "X_train.shape, y_train.shape"
      ],
      "metadata": {
        "colab": {
          "base_uri": "https://localhost:8080/"
        },
        "id": "q4fwTQdGejsj",
        "outputId": "572298d4-4e69-4492-88de-89fed70e158a"
      },
      "execution_count": 32,
      "outputs": [
        {
          "output_type": "execute_result",
          "data": {
            "text/plain": [
              "((80, 1), (80,))"
            ]
          },
          "metadata": {},
          "execution_count": 32
        }
      ]
    },
    {
      "cell_type": "code",
      "source": [
        "# plot data\n",
        "fig = plt.figure(figsize=(6,4))\n",
        "plt.scatter(X[:, 0], y, color=\"b\", marker=\"o\", s=30)\n",
        "plt.show();"
      ],
      "metadata": {
        "colab": {
          "base_uri": "https://localhost:8080/",
          "height": 368
        },
        "id": "QudBb2AUe49N",
        "outputId": "eabc5add-59da-42b6-885d-158c07fceed1"
      },
      "execution_count": 33,
      "outputs": [
        {
          "output_type": "display_data",
          "data": {
            "text/plain": [
              "<Figure size 600x400 with 1 Axes>"
            ],
            "image/png": "[encoded data removed]"
          },
          "metadata": {}
        }
      ]
    },
    {
      "cell_type": "markdown",
      "source": [
        "## Create Linear Regression Function"
      ],
      "metadata": {
        "id": "xV0TiBncdTSi"
      }
    },
    {
      "cell_type": "markdown",
      "source": [
        "### Equations\n",
        "\n",
        "<u>Linear Equation</u>\n",
        "<br><small>provides continuous variables</small>\n",
        "\n",
        "$$\n",
        "\\widehat{y}=wx+b\n",
        "$$\n",
        "\n",
        "<small>\n",
        "* $w$ = weight = slope<br>\n",
        "* $b$ = bias = intercept<br>\n",
        "* $x$ = weight value index<br>\n",
        "* $\\widehat{y}$ = predicted y\n",
        "</small>\n",
        "<br><br>\n",
        "------------------------------------------------------------\n",
        "<br>\n",
        "\n",
        "<u>Calculate Derivatives</u>\n",
        "\n",
        "*with respect to $w$*\n",
        "\n",
        "$$dw = \\frac{1}{N}\\displaystyle\\sum_{i=1}^n{x}_i(\\widehat{y} - {y}_i)$$\n",
        "\n",
        "*with respect to $b$*\n",
        "\n",
        "$$db = \\frac{1}{N}\\displaystyle\\sum_{i=1}^n(\\widehat{y} - {y}_i)$$\n",
        "\n",
        "<small>\n",
        "* $N$ = number of samples<br>\n",
        "* $x$ = weight<br>\n",
        "* $\\widehat{y}$ = predicted label<br>\n",
        "* $y$ = label<br>\n",
        "* $i$ = weight/label value index<br>\n",
        "* $dw$ = derivative with respect to $w$<br>\n",
        "* $db$ = derivative with respect to $b$<br>\n",
        "</small>\n",
        "\n",
        "------------------------------------------------------------\n",
        "<br>\n",
        "\n",
        "<u>Update Rules</u>\n",
        "\n",
        "*new weight*\n",
        "$$\n",
        "w = w - a \\times dw\n",
        "$$\n",
        "*new bias*\n",
        "$$\n",
        "b = b - a \\times db\n",
        "$$\n",
        "\n",
        "<small>\n",
        "* $w$ = weight = slope<br>\n",
        "* $b$ = bias = intercept<br>\n",
        "* $dw$ = derivative with respect to $w$<br>\n",
        "* $db$ = derivative with respect to $b$<br>\n",
        "* $a$ = alpha = learning rate\n",
        "</small>"
      ],
      "metadata": {
        "id": "BLO4QRkWVvm_"
      }
    },
    {
      "cell_type": "code",
      "source": [
        "class LinearRegression():\n",
        "\n",
        "  def __init__(self, lr=0.001, n_iters=1000):\n",
        "    self.lr = lr\n",
        "    self.n_iters = n_iters\n",
        "    self.weights = None\n",
        "    self.bias = None\n",
        "\n",
        "  def fit(self, X, y):\n",
        "    # init parameters\n",
        "    n_samples, n_features = X.shape\n",
        "    self.weights = np.zeros(n_features)\n",
        "    self.bias = 0\n",
        "\n",
        "    # gradient descent\n",
        "    for _ in range(self.n_iters):\n",
        "\n",
        "      # get predicted\n",
        "      y_predicted = np.dot(X, self.weights) + self.bias\n",
        "\n",
        "      # derivative with respect to w\n",
        "      dw = (1/n_samples) * np.dot(X.T, (y_predicted - y))\n",
        "\n",
        "      # derivative with respect to b\n",
        "      db = (1/n_samples) * np.sum(y_predicted - y)\n",
        "\n",
        "      # update weights and bias\n",
        "      self._update(dw, db)\n",
        "\n",
        "  def predict(self, X):\n",
        "    return np.dot(X, self.weights) + self.bias\n",
        "\n",
        "  def _update(self, dw, db):\n",
        "    # update rules: new weight\n",
        "    self.weights -= self.lr * dw\n",
        "\n",
        "    # update rules: new bias\n",
        "    self.bias -= self.lr * db\n"
      ],
      "metadata": {
        "id": "F07Ova2eXh5S"
      },
      "execution_count": 34,
      "outputs": []
    },
    {
      "cell_type": "markdown",
      "source": [
        "## Fit, Train, and Predict"
      ],
      "metadata": {
        "id": "zfHgT2emjy_x"
      }
    },
    {
      "cell_type": "code",
      "source": [
        "# predict something\n",
        "model_0 = LinearRegression()\n",
        "model_0.fit(X_train, y_train)\n",
        "predicted = model_0.predict(X_test)"
      ],
      "metadata": {
        "id": "BFE9lx_Lif9O"
      },
      "execution_count": 35,
      "outputs": []
    },
    {
      "cell_type": "markdown",
      "source": [
        "## Get Mean Squared Error"
      ],
      "metadata": {
        "id": "y4TdsSYij5lt"
      }
    },
    {
      "cell_type": "markdown",
      "source": [
        "**Cost/Loss Function**\n",
        "\n",
        "MSE (Mean Squared Error)<br>\n",
        "*On average how off are the predictions from the actual values?  We need to find the minimum.*\n",
        "\n",
        "$$\n",
        "\\text{MSE} = \\frac{1}{n} \\sum_{i=1}^{n} ({y}_i - (wx_i + {b}))^2\n",
        "$$\n",
        "\n",
        "${y}_i$ = actual value <br>\n",
        "$(wx_i + {b})$ = approximated value"
      ],
      "metadata": {
        "id": "vM9mIvWKqmkj"
      }
    },
    {
      "cell_type": "code",
      "source": [
        "def MeanSquaredError(y_true, y_predicted):\n",
        "  return np.mean((y_true - y_predicted)**2)"
      ],
      "metadata": {
        "id": "kiavSzAki5VK"
      },
      "execution_count": 36,
      "outputs": []
    },
    {
      "cell_type": "code",
      "source": [
        "mse = MeanSquaredError(y_test, predicted)\n",
        "print(f\"MSE: {mse}\")"
      ],
      "metadata": {
        "colab": {
          "base_uri": "https://localhost:8080/"
        },
        "id": "ih2KoCNfjQZp",
        "outputId": "0af19268-c126-4cab-e2aa-480c6f54dbba"
      },
      "execution_count": 37,
      "outputs": [
        {
          "output_type": "stream",
          "name": "stdout",
          "text": [
            "MSE: 829.0731129530375\n"
          ]
        }
      ]
    },
    {
      "cell_type": "markdown",
      "source": [
        "## Plot Predictions"
      ],
      "metadata": {
        "id": "I4-y4sipkBWu"
      }
    },
    {
      "cell_type": "code",
      "source": [
        "def plot_predictions(model:LinearRegression, title, X=X, X_train=X_train, y_train=y_train, X_test=X_test, y_test=y_test):\n",
        "\n",
        "  # make predictions with features\n",
        "  y_pred_line = model.predict(X)\n",
        "\n",
        "  cmap = plt.get_cmap('viridis')\n",
        "\n",
        "  fig, ax = plt.subplots(figsize=(6,4))\n",
        "\n",
        "  # plot train and test points\n",
        "  ax.scatter(X_train, y_train, color=cmap(0.9), s=10)\n",
        "  ax.scatter(X_test, y_test, color=cmap(0.5), s=10)\n",
        "  ax.legend(['Train','Test'])\n",
        "\n",
        "  # plot the predicted values as a line\n",
        "  plt.plot(X, y_pred_line, color='black', linewidth=2)\n",
        "  plt.title(title)\n",
        "  plt.show()\n"
      ],
      "metadata": {
        "id": "yAhCusxOjZPL"
      },
      "execution_count": 39,
      "outputs": []
    },
    {
      "cell_type": "code",
      "source": [
        "print(f\"MSE for 1st Model: {mse}\")\n",
        "plot_predictions(model_0, title=\"Prediction (default lr=0.001)\")"
      ],
      "metadata": {
        "colab": {
          "base_uri": "https://localhost:8080/",
          "height": 408
        },
        "id": "bD--jqm4lt6h",
        "outputId": "51b22e24-2b87-498d-aeb4-074ab5401822"
      },
      "execution_count": 40,
      "outputs": [
        {
          "output_type": "stream",
          "name": "stdout",
          "text": [
            "MSE for 1st Model: 829.0731129530375\n"
          ]
        },
        {
          "output_type": "display_data",
          "data": {
            "text/plain": [
              "<Figure size 600x400 with 1 Axes>"
            ],
            "image/png": "[encoded data removed]"
          },
          "metadata": {}
        }
      ]
    },
    {
      "cell_type": "code",
      "source": [
        "# adjust learning rate\n",
        "model_1 = LinearRegression(lr=0.1)\n",
        "model_1.fit(X_train, y_train)\n",
        "\n",
        "predicted_1 = model_1.predict(X_test)\n",
        "\n",
        "mse_1 = MeanSquaredError(y_test, predicted_1)\n",
        "print(f\"MSE for 2nd Model: {mse_1}\")\n",
        "\n",
        "plot_predictions(model_1, title=\"Prediction (lr = 0.1)\")"
      ],
      "metadata": {
        "colab": {
          "base_uri": "https://localhost:8080/",
          "height": 408
        },
        "id": "JiLWSCKMlwdR",
        "outputId": "7bae47a6-aae4-42fd-aa94-15636fd6ed4a"
      },
      "execution_count": 41,
      "outputs": [
        {
          "output_type": "stream",
          "name": "stdout",
          "text": [
            "MSE for 2nd Model: 416.80890612748107\n"
          ]
        },
        {
          "output_type": "display_data",
          "data": {
            "text/plain": [
              "<Figure size 600x400 with 1 Axes>"
            ],
            "image/png": "[encoded data removed]"
          },
          "metadata": {}
        }
      ]
    }
  ]
}